{
 "cells": [
  {
   "cell_type": "code",
   "execution_count": 1,
   "metadata": {},
   "outputs": [],
   "source": [
    "import itertools\n",
    "import pickle\n",
    "\n",
    "import numpy as np\n",
    "import pandas as pd\n",
    "from sklearn.ensemble import ExtraTreesClassifier\n",
    "from sklearn.metrics import log_loss\n",
    "\n",
    "import matplotlib.pyplot as plt\n",
    "%matplotlib inline"
   ]
  },
  {
   "cell_type": "code",
   "execution_count": 2,
   "metadata": {},
   "outputs": [],
   "source": [
    "def get_data(filename):\n",
    "    ids = []\n",
    "    data = []\n",
    "    labels = []\n",
    "    with open(filename, 'rb') as f:\n",
    "        while 1:\n",
    "            try:\n",
    "                d = pickle.load(f)\n",
    "                features = []\n",
    "                for lb in ['PA', 'PB']:\n",
    "                    if len(d[lb]) == 0:\n",
    "                        break\n",
    "                    max_att = d[lb][0]\n",
    "                    for att in d[lb][1:]:\n",
    "                        max_att = np.maximum(max_att, att)\n",
    "                    d[lb] = max_att[16:20, :]\n",
    "                    features.append(d[lb].flatten())\n",
    "                if len(d[lb]) == 0:\n",
    "                    continue\n",
    "                labels.append(d['label'])\n",
    "                ids.append(d['ID'])\n",
    "                data.append(np.concatenate(features))\n",
    "            except EOFError:\n",
    "                break\n",
    "    return ids, data, labels"
   ]
  },
  {
   "cell_type": "code",
   "execution_count": 3,
   "metadata": {},
   "outputs": [],
   "source": [
    "IDs_train1, X_train1, Y_train1 = get_data('./data/large-atts-gap-validation.pkl')\n",
    "IDs_train2, X_train2, Y_train2 = get_data('./data/large-atts-gap-test.pkl')\n",
    "IDs_train = IDs_train1 + IDs_train2\n",
    "X_train = X_train1 + X_train2\n",
    "Y_train = Y_train1 + Y_train2\n",
    "IDs_test, X_test, Y_test = get_data('./data/large-atts-gap-development.pkl')"
   ]
  },
  {
   "cell_type": "code",
   "execution_count": 4,
   "metadata": {},
   "outputs": [
    {
     "name": "stdout",
     "output_type": "stream",
     "text": [
      "2453 1998\n"
     ]
    }
   ],
   "source": [
    "print(len(X_train), len(X_test))"
   ]
  },
  {
   "cell_type": "code",
   "execution_count": 5,
   "metadata": {},
   "outputs": [
    {
     "data": {
      "text/plain": [
       "(128,)"
      ]
     },
     "execution_count": 5,
     "metadata": {},
     "output_type": "execute_result"
    }
   ],
   "source": [
    "X_train[0].shape"
   ]
  },
  {
   "cell_type": "code",
   "execution_count": 6,
   "metadata": {},
   "outputs": [
    {
     "data": {
      "text/plain": [
       "ExtraTreesClassifier(bootstrap=True, class_weight=None, criterion='gini',\n",
       "           max_depth=None, max_features=0.75, max_leaf_nodes=None,\n",
       "           min_impurity_decrease=0.0, min_impurity_split=None,\n",
       "           min_samples_leaf=1, min_samples_split=18,\n",
       "           min_weight_fraction_leaf=0.0, n_estimators=100, n_jobs=None,\n",
       "           oob_score=False, random_state=None, verbose=0, warm_start=False)"
      ]
     },
     "execution_count": 6,
     "metadata": {},
     "output_type": "execute_result"
    }
   ],
   "source": [
    "clf = ExtraTreesClassifier(bootstrap=True, criterion='gini', max_features=0.75, min_samples_leaf=1, min_samples_split=18, n_estimators=100)\n",
    "clf.fit(X_train, Y_train)"
   ]
  },
  {
   "cell_type": "code",
   "execution_count": 7,
   "metadata": {},
   "outputs": [
    {
     "data": {
      "text/plain": [
       "0.8898898898898899"
      ]
     },
     "execution_count": 7,
     "metadata": {},
     "output_type": "execute_result"
    }
   ],
   "source": [
    "clf.score(X_test, Y_test)"
   ]
  },
  {
   "cell_type": "code",
   "execution_count": 8,
   "metadata": {},
   "outputs": [
    {
     "data": {
      "image/png": "[encoded data removed]",
      "text/plain": [
       "<Figure size 432x288 with 1 Axes>"
      ]
     },
     "metadata": {
      "needs_background": "light"
     },
     "output_type": "display_data"
    }
   ],
   "source": [
    "plt.bar(range(len(clf.feature_importances_)), clf.feature_importances_)\n",
    "plt.show()"
   ]
  },
  {
   "cell_type": "code",
   "execution_count": 9,
   "metadata": {},
   "outputs": [
    {
     "data": {
      "text/plain": [
       "PBL17H7     0.141597\n",
       "PAL17H7     0.133602\n",
       "PBL16H14    0.104289\n",
       "PBL19H11    0.091763\n",
       "PAL19H11    0.070558\n",
       "PAL16H14    0.049801\n",
       "PBL18H15    0.044180\n",
       "PAL18H15    0.032782\n",
       "PAL19H14    0.030541\n",
       "PBL16H11    0.029360\n",
       "PBL19H14    0.022535\n",
       "PAL18H7     0.013677\n",
       "PAL16H11    0.009493\n",
       "PBL18H7     0.008372\n",
       "PAL16H15    0.007769\n",
       "PAL17H13    0.007585\n",
       "PBL19H9     0.007278\n",
       "PAL17H1     0.004622\n",
       "PBL16H15    0.004344\n",
       "PBL18H4     0.004130\n",
       "dtype: float64"
      ]
     },
     "execution_count": 9,
     "metadata": {},
     "output_type": "execute_result"
    }
   ],
   "source": [
    "column_indices = []\n",
    "for fttt in ['PA', 'PB']:\n",
    "    for l in range(16, 20):\n",
    "        for h in range(16):\n",
    "            column_indices.append(f'{fttt}L{l}H{h}')\n",
    "feature_importances = pd.Series(clf.feature_importances_, column_indices).sort_values(ascending=False)\n",
    "feature_importances.head(20)"
   ]
  },
  {
   "cell_type": "code",
   "execution_count": 10,
   "metadata": {},
   "outputs": [],
   "source": [
    "Y_test_ones = np.array([[int(x=='A'), int(x=='B'), int(x=='Neither')] for x in Y_test])"
   ]
  },
  {
   "cell_type": "code",
   "execution_count": 11,
   "metadata": {},
   "outputs": [],
   "source": [
    "Y_pred = clf.predict_proba(X_test)"
   ]
  },
  {
   "cell_type": "code",
   "execution_count": 12,
   "metadata": {},
   "outputs": [
    {
     "data": {
      "text/plain": [
       "0.345438816067647"
      ]
     },
     "execution_count": 12,
     "metadata": {},
     "output_type": "execute_result"
    }
   ],
   "source": [
    "log_loss(Y_test_ones, Y_pred)"
   ]
  },
  {
   "cell_type": "code",
   "execution_count": 13,
   "metadata": {},
   "outputs": [],
   "source": [
    "# submission = pd.read_csv('input/sample_submission_stage_1.csv', index_col='ID')\n",
    "# for _id, pred in zip(IDs_test, Y_pred):\n",
    "#     submission.loc[_id, 'A'] = pred[0]\n",
    "#     submission.loc[_id, 'B'] = pred[1]\n",
    "#     submission.loc[_id, 'NEITHER'] = pred[2]\n",
    "# submission.to_csv(f'output/TPOT.csv')"
   ]
  }
 ],
 "metadata": {
  "kernelspec": {
   "display_name": "Python 3",
   "language": "python",
   "name": "python3"
  },
  "language_info": {
   "codemirror_mode": {
    "name": "ipython",
    "version": 3
   },
   "file_extension": ".py",
   "mimetype": "text/x-python",
   "name": "python",
   "nbconvert_exporter": "python",
   "pygments_lexer": "ipython3",
   "version": "3.6.6"
  }
 },
 "nbformat": 4,
 "nbformat_minor": 2
}
