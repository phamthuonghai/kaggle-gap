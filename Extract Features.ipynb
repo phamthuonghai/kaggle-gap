{
 "cells": [
  {
   "cell_type": "code",
   "execution_count": 1,
   "metadata": {},
   "outputs": [],
   "source": [
    "import numpy as np # linear algebra\n",
    "import pandas as pd # data processing, CSV file I/O (e.g. pd.read_csv)\n",
    "import os\n",
    "import zipfile\n",
    "import gc\n",
    "from tqdm import tqdm_notebook as tqdm\n",
    "import re\n",
    "from collections import defaultdict\n",
    "import time\n",
    "import matplotlib.pyplot as plt\n",
    "%matplotlib inline\n",
    "\n",
    "import spacy\n",
    "from sklearn.metrics import log_loss\n",
    "\n",
    "nlp = spacy.load('en_core_web_lg')"
   ]
  },
  {
   "cell_type": "code",
   "execution_count": 3,
   "metadata": {},
   "outputs": [],
   "source": [
    "test_df  = pd.read_table('input/gap-development.tsv')\n",
    "train_df = pd.read_table('input/gap-test.tsv')\n",
    "val_df   = pd.read_table('input/gap-validation.tsv')"
   ]
  },
  {
   "cell_type": "code",
   "execution_count": 2,
   "metadata": {},
   "outputs": [],
   "source": [
    "def bs(lens, target):\n",
    "    low, high = 0, len(lens) - 1\n",
    "\n",
    "    while low < high:\n",
    "        mid = low + int((high - low) / 2)\n",
    "\n",
    "        if target > lens[mid]:\n",
    "            low = mid + 1\n",
    "        elif target < lens[mid]:\n",
    "            high = mid\n",
    "        else:\n",
    "            return mid + 1\n",
    "\n",
    "    return low\n",
    "\n",
    "def bin_distance(dist):\n",
    "    \n",
    "    buckets = [1, 2, 3, 4, 5, 8, 16, 32, 64]  \n",
    "    low, high = 0, len(buckets)\n",
    "    while low < high:\n",
    "        mid = low + int((high-low) / 2)\n",
    "        if dist > buckets[mid]:\n",
    "            low = mid + 1\n",
    "        elif dist < buckets[mid]:\n",
    "            high = mid\n",
    "        else:\n",
    "            return mid\n",
    "\n",
    "    return low\n",
    "\n",
    "def distance_features(P, A, B, char_offsetP, char_offsetA, char_offsetB, text, URL):\n",
    "    \n",
    "    doc = nlp(text)\n",
    "    \n",
    "    lens = [token.idx for token in doc]\n",
    "    mention_offsetP = bs(lens, char_offsetP) - 1\n",
    "    mention_offsetA = bs(lens, char_offsetA) - 1\n",
    "    mention_offsetB = bs(lens, char_offsetB) - 1\n",
    "    \n",
    "    mention_distA = mention_offsetP - mention_offsetA \n",
    "    mention_distB = mention_offsetP - mention_offsetB\n",
    "    \n",
    "    splited_A = A.split()[0].replace(\"*\", \"\")\n",
    "    splited_B = B.split()[0].replace(\"*\", \"\")\n",
    "    \n",
    "    if re.search(splited_A[0], str(URL)):\n",
    "        contains = 0\n",
    "    elif re.search(splited_B[0], str(URL)):\n",
    "        contains = 1\n",
    "    else:\n",
    "        contains = 2\n",
    "    \n",
    "    dist_binA = bin_distance(mention_distA)\n",
    "    dist_binB = bin_distance(mention_distB)\n",
    "    output =  [dist_binA, dist_binB, contains]\n",
    "    \n",
    "    return output\n",
    "\n",
    "def extract_dist_features(df):\n",
    "    \n",
    "    index = df.index\n",
    "    columns = [\"D_PA\", \"D_PB\", \"IN_URL\"]\n",
    "    dist_df = pd.DataFrame(index = index, columns = columns)\n",
    "\n",
    "    for i in tqdm(range(len(df))):\n",
    "        \n",
    "        text = df.loc[i, 'Text']\n",
    "        P_offset = df.loc[i,'Pronoun-offset']\n",
    "        A_offset = df.loc[i, 'A-offset']\n",
    "        B_offset = df.loc[i, 'B-offset']\n",
    "        P, A, B  = df.loc[i,'Pronoun'], df.loc[i, 'A'], df.loc[i, 'B']\n",
    "        URL = df.loc[i, 'URL']\n",
    "        \n",
    "        dist_df.iloc[i] = distance_features(P, A, B, P_offset, A_offset, B_offset, text, URL)\n",
    "        \n",
    "    return dist_df"
   ]
  },
  {
   "cell_type": "code",
   "execution_count": 3,
   "metadata": {},
   "outputs": [
    {
     "data": {
      "application/vnd.jupyter.widget-view+json": {
       "model_id": "a330492a56524f32b6d22d72f69b5484",
       "version_major": 2,
       "version_minor": 0
      },
      "text/plain": [
       "HBox(children=(IntProgress(value=0, max=12359), HTML(value='')))"
      ]
     },
     "metadata": {},
     "output_type": "display_data"
    },
    {
     "name": "stdout",
     "output_type": "stream",
     "text": [
      "\n"
     ]
    }
   ],
   "source": [
    "test2_df = pd.read_table('input/test_stage_2.tsv')\n",
    "test2_dist_df = extract_dist_features(test2_df)\n",
    "test2_dist_df['ID'] = test2_df['ID']\n",
    "test2_dist_df.to_csv('data/test2_dist.csv', index=False)"
   ]
  },
  {
   "cell_type": "code",
   "execution_count": 34,
   "metadata": {},
   "outputs": [
    {
     "data": {
      "application/vnd.jupyter.widget-view+json": {
       "model_id": "c7c34b5079234e0c948b6d0b4343c8a4",
       "version_major": 2,
       "version_minor": 0
      },
      "text/plain": [
       "HBox(children=(IntProgress(value=0, max=2000), HTML(value='')))"
      ]
     },
     "metadata": {},
     "output_type": "display_data"
    },
    {
     "name": "stdout",
     "output_type": "stream",
     "text": [
      "\n"
     ]
    },
    {
     "data": {
      "application/vnd.jupyter.widget-view+json": {
       "model_id": "07b8aba672d14377b9cc2d97ba23028c",
       "version_major": 2,
       "version_minor": 0
      },
      "text/plain": [
       "HBox(children=(IntProgress(value=0, max=454), HTML(value='')))"
      ]
     },
     "metadata": {},
     "output_type": "display_data"
    },
    {
     "name": "stdout",
     "output_type": "stream",
     "text": [
      "\n"
     ]
    },
    {
     "data": {
      "application/vnd.jupyter.widget-view+json": {
       "model_id": "0694c31da09b48ecb6906636b671dc07",
       "version_major": 2,
       "version_minor": 0
      },
      "text/plain": [
       "HBox(children=(IntProgress(value=0, max=2000), HTML(value='')))"
      ]
     },
     "metadata": {},
     "output_type": "display_data"
    },
    {
     "name": "stdout",
     "output_type": "stream",
     "text": [
      "\n"
     ]
    }
   ],
   "source": [
    "test_dist_df = extract_dist_features(test_df)\n",
    "# test_dist_df.to_csv('test_dist_df.csv', index=False)\n",
    "val_dist_df = extract_dist_features(val_df)\n",
    "# val_dist_df.to_csv('val_dist_df.csv', index=False)\n",
    "train_dist_df = extract_dist_features(train_df)\n",
    "# train_dist_df.to_csv('train_dist_df.csv', index=False)"
   ]
  },
  {
   "cell_type": "code",
   "execution_count": 35,
   "metadata": {},
   "outputs": [
    {
     "data": {
      "text/html": [
       "<div>\n",
       "<style scoped>\n",
       "    .dataframe tbody tr th:only-of-type {\n",
       "        vertical-align: middle;\n",
       "    }\n",
       "\n",
       "    .dataframe tbody tr th {\n",
       "        vertical-align: top;\n",
       "    }\n",
       "\n",
       "    .dataframe thead th {\n",
       "        text-align: right;\n",
       "    }\n",
       "</style>\n",
       "<table border=\"1\" class=\"dataframe\">\n",
       "  <thead>\n",
       "    <tr style=\"text-align: right;\">\n",
       "      <th></th>\n",
       "      <th>D_PA</th>\n",
       "      <th>D_PB</th>\n",
       "      <th>IN_URL</th>\n",
       "      <th>ID</th>\n",
       "    </tr>\n",
       "  </thead>\n",
       "  <tbody>\n",
       "    <tr>\n",
       "      <th>0</th>\n",
       "      <td>7</td>\n",
       "      <td>6</td>\n",
       "      <td>2</td>\n",
       "      <td>development-1</td>\n",
       "    </tr>\n",
       "    <tr>\n",
       "      <th>1</th>\n",
       "      <td>6</td>\n",
       "      <td>5</td>\n",
       "      <td>0</td>\n",
       "      <td>development-2</td>\n",
       "    </tr>\n",
       "    <tr>\n",
       "      <th>2</th>\n",
       "      <td>7</td>\n",
       "      <td>4</td>\n",
       "      <td>0</td>\n",
       "      <td>development-3</td>\n",
       "    </tr>\n",
       "    <tr>\n",
       "      <th>3</th>\n",
       "      <td>7</td>\n",
       "      <td>0</td>\n",
       "      <td>2</td>\n",
       "      <td>development-4</td>\n",
       "    </tr>\n",
       "    <tr>\n",
       "      <th>4</th>\n",
       "      <td>8</td>\n",
       "      <td>7</td>\n",
       "      <td>1</td>\n",
       "      <td>development-5</td>\n",
       "    </tr>\n",
       "  </tbody>\n",
       "</table>\n",
       "</div>"
      ],
      "text/plain": [
       "   D_PA  D_PB  IN_URL             ID\n",
       "0     7     6       2  development-1\n",
       "1     6     5       0  development-2\n",
       "2     7     4       0  development-3\n",
       "3     7     0       2  development-4\n",
       "4     8     7       1  development-5"
      ]
     },
     "execution_count": 35,
     "metadata": {},
     "output_type": "execute_result"
    }
   ],
   "source": [
    "test_dist_df['ID'] = test_df['ID']\n",
    "test_dist_df.head()"
   ]
  },
  {
   "cell_type": "code",
   "execution_count": 36,
   "metadata": {},
   "outputs": [],
   "source": [
    "test_dist_df['ID'] = test_df['ID']\n",
    "# test_dist_df.set_index('ID', inplace=True)\n",
    "test_dist_df.to_csv('data/dev_dist.csv', index=False)\n",
    "\n",
    "val_dist_df['ID'] = val_df['ID']\n",
    "# val_dist_df.set_index('ID', inplace=True)\n",
    "val_dist_df.to_csv('data/val_dist.csv', index=False)\n",
    "\n",
    "train_dist_df['ID'] = train_df['ID']\n",
    "# train_dist_df.set_index('ID', inplace=True)\n",
    "train_dist_df.to_csv('data/test_dist.csv', index=False)"
   ]
  },
  {
   "cell_type": "code",
   "execution_count": 32,
   "metadata": {},
   "outputs": [
    {
     "data": {
      "text/html": [
       "<div>\n",
       "<style scoped>\n",
       "    .dataframe tbody tr th:only-of-type {\n",
       "        vertical-align: middle;\n",
       "    }\n",
       "\n",
       "    .dataframe tbody tr th {\n",
       "        vertical-align: top;\n",
       "    }\n",
       "\n",
       "    .dataframe thead th {\n",
       "        text-align: right;\n",
       "    }\n",
       "</style>\n",
       "<table border=\"1\" class=\"dataframe\">\n",
       "  <thead>\n",
       "    <tr style=\"text-align: right;\">\n",
       "      <th></th>\n",
       "      <th>D_PA</th>\n",
       "      <th>D_PB</th>\n",
       "      <th>IN_URL</th>\n",
       "      <th>ID</th>\n",
       "    </tr>\n",
       "    <tr>\n",
       "      <th>ID</th>\n",
       "      <th></th>\n",
       "      <th></th>\n",
       "      <th></th>\n",
       "      <th></th>\n",
       "    </tr>\n",
       "  </thead>\n",
       "  <tbody>\n",
       "    <tr>\n",
       "      <th>NaN</th>\n",
       "      <td>5</td>\n",
       "      <td>3</td>\n",
       "      <td>1</td>\n",
       "      <td>NaN</td>\n",
       "    </tr>\n",
       "    <tr>\n",
       "      <th>NaN</th>\n",
       "      <td>6</td>\n",
       "      <td>5</td>\n",
       "      <td>0</td>\n",
       "      <td>NaN</td>\n",
       "    </tr>\n",
       "    <tr>\n",
       "      <th>NaN</th>\n",
       "      <td>6</td>\n",
       "      <td>3</td>\n",
       "      <td>0</td>\n",
       "      <td>NaN</td>\n",
       "    </tr>\n",
       "    <tr>\n",
       "      <th>NaN</th>\n",
       "      <td>7</td>\n",
       "      <td>0</td>\n",
       "      <td>1</td>\n",
       "      <td>NaN</td>\n",
       "    </tr>\n",
       "    <tr>\n",
       "      <th>NaN</th>\n",
       "      <td>0</td>\n",
       "      <td>0</td>\n",
       "      <td>2</td>\n",
       "      <td>NaN</td>\n",
       "    </tr>\n",
       "  </tbody>\n",
       "</table>\n",
       "</div>"
      ],
      "text/plain": [
       "     D_PA  D_PB  IN_URL   ID\n",
       "ID                          \n",
       "NaN     5     3       1  NaN\n",
       "NaN     6     5       0  NaN\n",
       "NaN     6     3       0  NaN\n",
       "NaN     7     0       1  NaN\n",
       "NaN     0     0       2  NaN"
      ]
     },
     "execution_count": 32,
     "metadata": {},
     "output_type": "execute_result"
    }
   ],
   "source": [
    "test_dist_df.head()"
   ]
  },
  {
   "cell_type": "code",
   "execution_count": 31,
   "metadata": {},
   "outputs": [],
   "source": [
    "test_dist_df['ID'] = test_df['ID']"
   ]
  },
  {
   "cell_type": "code",
   "execution_count": 23,
   "metadata": {},
   "outputs": [
    {
     "data": {
      "text/plain": [
       "Index(['D_PA', 'D_PB', 'IN_URL'], dtype='object')"
      ]
     },
     "execution_count": 23,
     "metadata": {},
     "output_type": "execute_result"
    }
   ],
   "source": [
    "train_dist_df.columns"
   ]
  },
  {
   "cell_type": "markdown",
   "metadata": {},
   "source": [
    "https://www.kaggle.com/negedng/extracting-features-from-spacy-dependency/output"
   ]
  },
  {
   "cell_type": "code",
   "execution_count": 4,
   "metadata": {},
   "outputs": [],
   "source": [
    "class Graph():\n",
    "    def __init__(self):\n",
    "        \"\"\"\n",
    "        self.edges is a dict of all possible next nodes\n",
    "        e.g. {'X': ['A', 'B', 'C', 'E'], ...}\n",
    "        self.weights has all the weights between two nodes,\n",
    "        with the two nodes as a tuple as the key\n",
    "        e.g. {('X', 'A'): 7, ('X', 'B'): 2, ...}\n",
    "        \"\"\"\n",
    "        self.edges = defaultdict(list)\n",
    "        self.weights = {}\n",
    "    \n",
    "    def add_edge(self, from_node, to_node, weight, back_penalty=1):\n",
    "        # Note: assumes edges are bi-directional\n",
    "        self.edges[from_node].append(to_node)\n",
    "        self.edges[to_node].append(from_node)\n",
    "        self.weights[(from_node, to_node)] = weight\n",
    "        self.weights[(to_node, from_node)] = weight*back_penalty\n",
    "\n",
    "def dijsktra(graph, initial, end):\n",
    "    # shortest paths is a dict of nodes\n",
    "    # whose value is a tuple of (previous node, weight)\n",
    "    shortest_paths = {initial: (None, 0)}\n",
    "    current_node = initial\n",
    "    visited = set()\n",
    "    \n",
    "    while current_node != end:\n",
    "        visited.add(current_node)\n",
    "        destinations = graph.edges[current_node]\n",
    "        weight_to_current_node = shortest_paths[current_node][1]\n",
    "\n",
    "        for next_node in destinations:\n",
    "            weight = graph.weights[(current_node, next_node)] + weight_to_current_node\n",
    "            if next_node not in shortest_paths:\n",
    "                shortest_paths[next_node] = (current_node, weight)\n",
    "            else:\n",
    "                current_shortest_weight = shortest_paths[next_node][1]\n",
    "                if current_shortest_weight > weight:\n",
    "                    shortest_paths[next_node] = (current_node, weight)\n",
    "        \n",
    "        next_destinations = {node: shortest_paths[node] for node in shortest_paths if node not in visited}\n",
    "        if not next_destinations:\n",
    "            raise Exception(\"Something is wrong\")\n",
    "        # next node is the destination with the lowest weight\n",
    "        current_node = min(next_destinations, key=lambda k: next_destinations[k][1])\n",
    "    \n",
    "    # Work back through destinations in shortest path\n",
    "    path = []\n",
    "    dist = 0\n",
    "    while current_node is not None:\n",
    "        path.append(current_node)\n",
    "        next_node = shortest_paths[current_node][0]\n",
    "        dist += shortest_paths[current_node][1]\n",
    "        current_node = next_node\n",
    "    # Reverse path\n",
    "    path = path[::-1]\n",
    "    return path, dist\n",
    "\n",
    "def get_rank(token):\n",
    "    \"\"\"Step up with token.head until it reaches the root. Returns with step number and root\"\"\"\n",
    "    i = 0\n",
    "    next_token = token\n",
    "    while(next_token!=next_token.head):\n",
    "        i+=1\n",
    "        next_token=next_token.head\n",
    "    return i, next_token\n",
    "\n",
    "def child_count(token):\n",
    "    cc = 0\n",
    "    for child in token.children:\n",
    "        cc+=1\n",
    "    return cc\n",
    "\n",
    "def build_features(data):\n",
    "    \"\"\"Generates features from input data\"\"\"\n",
    "    features = []\n",
    "    sum_good = 0\n",
    "    for i in range(0,len(data)):\n",
    "        fi = []\n",
    "        dataNext = data.loc[i]\n",
    "        text = dataNext[\"Text\"]\n",
    "        #print(visualise(dataNext))\n",
    "        doc=nlp(text)\n",
    "        Aoff = dataNext[\"A-offset\"]\n",
    "        Boff = dataNext[\"B-offset\"]\n",
    "        Poff = dataNext[\"Pronoun-offset\"]\n",
    "        lth = len(text)\n",
    "        \n",
    "        for token in doc:\n",
    "            if(token.idx==Aoff):\n",
    "                Atoken = token\n",
    "            if(token.idx==Boff):\n",
    "                Btoken = token\n",
    "            if(token.idx==Poff):\n",
    "                Ptoken=token\n",
    "        Arank, Aroot = get_rank(Atoken)\n",
    "        Brank, Broot = get_rank(Btoken)\n",
    "        Prank, Proot = get_rank(Ptoken)\n",
    "        \n",
    "        graph = Graph()\n",
    "        \n",
    "        for token in doc:\n",
    "            graph.add_edge(token, token.head, 1, 4)\n",
    "        \n",
    "        sent_root = []\n",
    "        for sent in doc.sents:\n",
    "            sent_root.append(sent.root)\n",
    "        for j in range(len(sent_root)-1):\n",
    "            graph.add_edge(sent_root[j], sent_root[j+1],1, 4)\n",
    "        try:\n",
    "            _, Alen = dijsktra(graph, Atoken, Ptoken)\n",
    "        except:\n",
    "            Alen = 300\n",
    "        try:\n",
    "            _, Blen = dijsktra(graph, Btoken, Ptoken)\n",
    "        except:\n",
    "            Blen = 300\n",
    "        \n",
    "        \n",
    "        sent_num = len(sent_root)\n",
    "        for i in range(len(sent_root)):\n",
    "            if Aroot == sent_root[i]:\n",
    "                Atop = i\n",
    "            if Broot == sent_root[i]:\n",
    "                Btop = i\n",
    "            if Proot == sent_root[i]:\n",
    "                Ptop = i\n",
    "        \n",
    "        fi.append(Aoff/lth)#0\n",
    "        fi.append(Boff/lth)#1\n",
    "        fi.append(Poff/lth)#2\n",
    "\n",
    "        fi.append(1.0*Atop/sent_num)#3\n",
    "        fi.append(1.0*Btop/sent_num)#4\n",
    "        fi.append(1.0*Ptop/sent_num)#5\n",
    "\n",
    "        fi.append(Arank/10)#6\n",
    "        fi.append(Brank/10)#7\n",
    "        fi.append(Prank/10)#8\n",
    "        \n",
    "        #fi.append(Atoken.similarity(Ptoken))#9\n",
    "        #fi.append(Btoken.similarity(Ptoken))#10\n",
    "        \n",
    "        #fi.append(Alen/300)#9\n",
    "        #fi.append(Blen/300)#10\n",
    "        \n",
    "        #fi.append(child_count(Aroot))#11\n",
    "        #fi.append(child_count(Broot))#12\n",
    "        #fi.append(child_count(Proot))#13\n",
    "        \n",
    "        features.append(fi)\n",
    "    return np.vstack(features)\n",
    "\n",
    "def swap_raws(data, i, j):\n",
    "    \"\"\"Swap the ith and jth column of the data\"\"\"\n",
    "    new_data = np.copy(data)\n",
    "    temp = np.copy(new_data[:, i])\n",
    "    new_data[:,i] = new_data[:,j]\n",
    "    new_data[:,j] = temp\n",
    "    return new_data"
   ]
  },
  {
   "cell_type": "code",
   "execution_count": 14,
   "metadata": {},
   "outputs": [
    {
     "name": "stdout",
     "output_type": "stream",
     "text": [
      "Feature building started  Thu Apr 11 15:46:21 2019\n",
      "Developement ready Thu Apr 11 15:46:43 2019\n",
      "Validation ready Thu Apr 11 15:46:47 2019\n",
      "Test ready Thu Apr 11 15:47:09 2019\n"
     ]
    }
   ],
   "source": [
    "print(\"Feature building started \", time.ctime())\n",
    "test_feat = build_features(test_df)\n",
    "print(\"Developement ready\", time.ctime())\n",
    "val_feat = build_features(val_df)\n",
    "print(\"Validation ready\", time.ctime())\n",
    "train_feat = build_features(train_df)\n",
    "print(\"Test ready\", time.ctime())"
   ]
  },
  {
   "cell_type": "code",
   "execution_count": 5,
   "metadata": {},
   "outputs": [],
   "source": [
    "test2_feat = build_features(test2_df)\n",
    "test2_feat_df = pd.DataFrame(test2_feat)\n",
    "test2_feat_df['ID'] = test2_df['ID']\n",
    "test2_feat_df.to_csv('data/test2_feats.csv', index=False)"
   ]
  },
  {
   "cell_type": "code",
   "execution_count": 50,
   "metadata": {},
   "outputs": [],
   "source": [
    "test_feat_df = pd.DataFrame(test_feat)\n",
    "test_feat_df['ID'] = test_df['ID']\n",
    "test_feat_df.to_csv('data/dev_feats.csv', index=False)\n",
    "\n",
    "val_feat_df = pd.DataFrame(val_feat)\n",
    "val_feat_df['ID'] = val_df['ID']\n",
    "val_feat_df.to_csv('data/val_feats.csv', index=False)\n",
    "\n",
    "train_feat_df = pd.DataFrame(train_feat)\n",
    "train_feat_df['ID'] = train_df['ID']\n",
    "train_feat_df.to_csv('data/test_feats.csv', index=False)"
   ]
  },
  {
   "cell_type": "code",
   "execution_count": 49,
   "metadata": {},
   "outputs": [
    {
     "data": {
      "text/html": [
       "<div>\n",
       "<style scoped>\n",
       "    .dataframe tbody tr th:only-of-type {\n",
       "        vertical-align: middle;\n",
       "    }\n",
       "\n",
       "    .dataframe tbody tr th {\n",
       "        vertical-align: top;\n",
       "    }\n",
       "\n",
       "    .dataframe thead th {\n",
       "        text-align: right;\n",
       "    }\n",
       "</style>\n",
       "<table border=\"1\" class=\"dataframe\">\n",
       "  <thead>\n",
       "    <tr style=\"text-align: right;\">\n",
       "      <th></th>\n",
       "      <th>0</th>\n",
       "      <th>1</th>\n",
       "      <th>2</th>\n",
       "      <th>3</th>\n",
       "      <th>4</th>\n",
       "      <th>5</th>\n",
       "      <th>6</th>\n",
       "      <th>7</th>\n",
       "      <th>8</th>\n",
       "    </tr>\n",
       "    <tr>\n",
       "      <th>ID</th>\n",
       "      <th></th>\n",
       "      <th></th>\n",
       "      <th></th>\n",
       "      <th></th>\n",
       "      <th></th>\n",
       "      <th></th>\n",
       "      <th></th>\n",
       "      <th></th>\n",
       "      <th></th>\n",
       "    </tr>\n",
       "  </thead>\n",
       "  <tbody>\n",
       "    <tr>\n",
       "      <th>development-1</th>\n",
       "      <td>0.794582</td>\n",
       "      <td>0.826185</td>\n",
       "      <td>0.864560</td>\n",
       "      <td>0.500000</td>\n",
       "      <td>0.500000</td>\n",
       "      <td>0.750000</td>\n",
       "      <td>0.3</td>\n",
       "      <td>0.2</td>\n",
       "      <td>0.2</td>\n",
       "    </tr>\n",
       "    <tr>\n",
       "      <th>development-2</th>\n",
       "      <td>0.640653</td>\n",
       "      <td>0.707804</td>\n",
       "      <td>0.780399</td>\n",
       "      <td>0.750000</td>\n",
       "      <td>0.750000</td>\n",
       "      <td>0.750000</td>\n",
       "      <td>0.1</td>\n",
       "      <td>0.4</td>\n",
       "      <td>0.4</td>\n",
       "    </tr>\n",
       "    <tr>\n",
       "      <th>development-3</th>\n",
       "      <td>0.630542</td>\n",
       "      <td>0.726601</td>\n",
       "      <td>0.768473</td>\n",
       "      <td>0.500000</td>\n",
       "      <td>0.500000</td>\n",
       "      <td>0.750000</td>\n",
       "      <td>0.3</td>\n",
       "      <td>0.3</td>\n",
       "      <td>0.1</td>\n",
       "    </tr>\n",
       "    <tr>\n",
       "      <th>development-4</th>\n",
       "      <td>0.548763</td>\n",
       "      <td>0.780204</td>\n",
       "      <td>0.765648</td>\n",
       "      <td>0.333333</td>\n",
       "      <td>0.666667</td>\n",
       "      <td>0.666667</td>\n",
       "      <td>0.1</td>\n",
       "      <td>0.1</td>\n",
       "      <td>0.3</td>\n",
       "    </tr>\n",
       "    <tr>\n",
       "      <th>development-5</th>\n",
       "      <td>0.718430</td>\n",
       "      <td>0.953925</td>\n",
       "      <td>0.692833</td>\n",
       "      <td>0.750000</td>\n",
       "      <td>0.750000</td>\n",
       "      <td>0.750000</td>\n",
       "      <td>0.1</td>\n",
       "      <td>0.5</td>\n",
       "      <td>0.4</td>\n",
       "    </tr>\n",
       "  </tbody>\n",
       "</table>\n",
       "</div>"
      ],
      "text/plain": [
       "                      0         1         2         3         4         5  \\\n",
       "ID                                                                          \n",
       "development-1  0.794582  0.826185  0.864560  0.500000  0.500000  0.750000   \n",
       "development-2  0.640653  0.707804  0.780399  0.750000  0.750000  0.750000   \n",
       "development-3  0.630542  0.726601  0.768473  0.500000  0.500000  0.750000   \n",
       "development-4  0.548763  0.780204  0.765648  0.333333  0.666667  0.666667   \n",
       "development-5  0.718430  0.953925  0.692833  0.750000  0.750000  0.750000   \n",
       "\n",
       "                 6    7    8  \n",
       "ID                            \n",
       "development-1  0.3  0.2  0.2  \n",
       "development-2  0.1  0.4  0.4  \n",
       "development-3  0.3  0.3  0.1  \n",
       "development-4  0.1  0.1  0.3  \n",
       "development-5  0.1  0.5  0.4  "
      ]
     },
     "execution_count": 49,
     "metadata": {},
     "output_type": "execute_result"
    }
   ],
   "source": [
    "train_feat_df = pd.read_csv('data/test_feats.csv', index_col='ID')\n",
    "train_feat_df.head()"
   ]
  },
  {
   "cell_type": "code",
   "execution_count": 46,
   "metadata": {},
   "outputs": [
    {
     "data": {
      "text/html": [
       "<div>\n",
       "<style scoped>\n",
       "    .dataframe tbody tr th:only-of-type {\n",
       "        vertical-align: middle;\n",
       "    }\n",
       "\n",
       "    .dataframe tbody tr th {\n",
       "        vertical-align: top;\n",
       "    }\n",
       "\n",
       "    .dataframe thead th {\n",
       "        text-align: right;\n",
       "    }\n",
       "</style>\n",
       "<table border=\"1\" class=\"dataframe\">\n",
       "  <thead>\n",
       "    <tr style=\"text-align: right;\">\n",
       "      <th></th>\n",
       "      <th>0</th>\n",
       "      <th>1</th>\n",
       "      <th>2</th>\n",
       "      <th>3</th>\n",
       "      <th>4</th>\n",
       "      <th>5</th>\n",
       "      <th>6</th>\n",
       "      <th>7</th>\n",
       "      <th>8</th>\n",
       "      <th>ID</th>\n",
       "    </tr>\n",
       "  </thead>\n",
       "  <tbody>\n",
       "    <tr>\n",
       "      <th>0</th>\n",
       "      <td>0.448357</td>\n",
       "      <td>0.485915</td>\n",
       "      <td>0.643192</td>\n",
       "      <td>0.400000</td>\n",
       "      <td>0.400000</td>\n",
       "      <td>0.800000</td>\n",
       "      <td>0.2</td>\n",
       "      <td>0.3</td>\n",
       "      <td>0.2</td>\n",
       "      <td>development-1</td>\n",
       "    </tr>\n",
       "    <tr>\n",
       "      <th>1</th>\n",
       "      <td>0.556098</td>\n",
       "      <td>0.612195</td>\n",
       "      <td>0.692683</td>\n",
       "      <td>0.500000</td>\n",
       "      <td>0.500000</td>\n",
       "      <td>0.750000</td>\n",
       "      <td>0.1</td>\n",
       "      <td>0.3</td>\n",
       "      <td>0.2</td>\n",
       "      <td>development-2</td>\n",
       "    </tr>\n",
       "    <tr>\n",
       "      <th>2</th>\n",
       "      <td>0.322761</td>\n",
       "      <td>0.458955</td>\n",
       "      <td>0.494403</td>\n",
       "      <td>0.666667</td>\n",
       "      <td>0.666667</td>\n",
       "      <td>0.666667</td>\n",
       "      <td>0.3</td>\n",
       "      <td>0.3</td>\n",
       "      <td>0.5</td>\n",
       "      <td>development-3</td>\n",
       "    </tr>\n",
       "    <tr>\n",
       "      <th>3</th>\n",
       "      <td>0.433915</td>\n",
       "      <td>0.837905</td>\n",
       "      <td>0.800499</td>\n",
       "      <td>0.500000</td>\n",
       "      <td>0.750000</td>\n",
       "      <td>0.750000</td>\n",
       "      <td>0.3</td>\n",
       "      <td>0.5</td>\n",
       "      <td>0.4</td>\n",
       "      <td>development-4</td>\n",
       "    </tr>\n",
       "    <tr>\n",
       "      <th>4</th>\n",
       "      <td>0.331818</td>\n",
       "      <td>0.445455</td>\n",
       "      <td>0.662121</td>\n",
       "      <td>0.500000</td>\n",
       "      <td>0.500000</td>\n",
       "      <td>0.750000</td>\n",
       "      <td>0.4</td>\n",
       "      <td>0.2</td>\n",
       "      <td>0.1</td>\n",
       "      <td>development-5</td>\n",
       "    </tr>\n",
       "  </tbody>\n",
       "</table>\n",
       "</div>"
      ],
      "text/plain": [
       "          0         1         2         3         4         5    6    7    8  \\\n",
       "0  0.448357  0.485915  0.643192  0.400000  0.400000  0.800000  0.2  0.3  0.2   \n",
       "1  0.556098  0.612195  0.692683  0.500000  0.500000  0.750000  0.1  0.3  0.2   \n",
       "2  0.322761  0.458955  0.494403  0.666667  0.666667  0.666667  0.3  0.3  0.5   \n",
       "3  0.433915  0.837905  0.800499  0.500000  0.750000  0.750000  0.3  0.5  0.4   \n",
       "4  0.331818  0.445455  0.662121  0.500000  0.500000  0.750000  0.4  0.2  0.1   \n",
       "\n",
       "              ID  \n",
       "0  development-1  \n",
       "1  development-2  \n",
       "2  development-3  \n",
       "3  development-4  \n",
       "4  development-5  "
      ]
     },
     "execution_count": 46,
     "metadata": {},
     "output_type": "execute_result"
    }
   ],
   "source": [
    "test_feat_df.head()"
   ]
  },
  {
   "cell_type": "code",
   "execution_count": 17,
   "metadata": {},
   "outputs": [
    {
     "data": {
      "text/plain": [
       "(2000, 3)"
      ]
     },
     "execution_count": 17,
     "metadata": {},
     "output_type": "execute_result"
    }
   ],
   "source": [
    "test_dist_df.values"
   ]
  },
  {
   "cell_type": "code",
   "execution_count": 18,
   "metadata": {},
   "outputs": [
    {
     "data": {
      "text/plain": [
       "(2000, 12)"
      ]
     },
     "execution_count": 18,
     "metadata": {},
     "output_type": "execute_result"
    }
   ],
   "source": [
    "a = np.concatenate([test_feat, test_dist_df], axis=1)\n",
    "a.shape"
   ]
  },
  {
   "cell_type": "code",
   "execution_count": 37,
   "metadata": {},
   "outputs": [],
   "source": [
    "dev_dist_df = pd.read_csv('data/dev_dist.csv', index_col='ID')\n",
    "val_dist_df = pd.read_csv('data/val_dist.csv', index_col='ID')\n",
    "test_dist_df = pd.read_csv('data/test_dist.csv', index_col='ID')\n",
    "# train_dist_df = pd.concat([val_dist_df, test_dist_df])"
   ]
  },
  {
   "cell_type": "code",
   "execution_count": 38,
   "metadata": {},
   "outputs": [
    {
     "data": {
      "text/html": [
       "<div>\n",
       "<style scoped>\n",
       "    .dataframe tbody tr th:only-of-type {\n",
       "        vertical-align: middle;\n",
       "    }\n",
       "\n",
       "    .dataframe tbody tr th {\n",
       "        vertical-align: top;\n",
       "    }\n",
       "\n",
       "    .dataframe thead th {\n",
       "        text-align: right;\n",
       "    }\n",
       "</style>\n",
       "<table border=\"1\" class=\"dataframe\">\n",
       "  <thead>\n",
       "    <tr style=\"text-align: right;\">\n",
       "      <th></th>\n",
       "      <th>D_PA</th>\n",
       "      <th>D_PB</th>\n",
       "      <th>IN_URL</th>\n",
       "    </tr>\n",
       "    <tr>\n",
       "      <th>ID</th>\n",
       "      <th></th>\n",
       "      <th></th>\n",
       "      <th></th>\n",
       "    </tr>\n",
       "  </thead>\n",
       "  <tbody>\n",
       "    <tr>\n",
       "      <th>test-1</th>\n",
       "      <td>5</td>\n",
       "      <td>3</td>\n",
       "      <td>1</td>\n",
       "    </tr>\n",
       "    <tr>\n",
       "      <th>test-2</th>\n",
       "      <td>6</td>\n",
       "      <td>5</td>\n",
       "      <td>0</td>\n",
       "    </tr>\n",
       "    <tr>\n",
       "      <th>test-3</th>\n",
       "      <td>6</td>\n",
       "      <td>3</td>\n",
       "      <td>0</td>\n",
       "    </tr>\n",
       "    <tr>\n",
       "      <th>test-4</th>\n",
       "      <td>7</td>\n",
       "      <td>0</td>\n",
       "      <td>1</td>\n",
       "    </tr>\n",
       "    <tr>\n",
       "      <th>test-5</th>\n",
       "      <td>0</td>\n",
       "      <td>0</td>\n",
       "      <td>2</td>\n",
       "    </tr>\n",
       "  </tbody>\n",
       "</table>\n",
       "</div>"
      ],
      "text/plain": [
       "        D_PA  D_PB  IN_URL\n",
       "ID                        \n",
       "test-1     5     3       1\n",
       "test-2     6     5       0\n",
       "test-3     6     3       0\n",
       "test-4     7     0       1\n",
       "test-5     0     0       2"
      ]
     },
     "execution_count": 38,
     "metadata": {},
     "output_type": "execute_result"
    }
   ],
   "source": [
    "test_dist_df.head()"
   ]
  },
  {
   "cell_type": "code",
   "execution_count": null,
   "metadata": {},
   "outputs": [],
   "source": []
  }
 ],
 "metadata": {
  "kernelspec": {
   "display_name": "Python 3",
   "language": "python",
   "name": "python3"
  },
  "language_info": {
   "codemirror_mode": {
    "name": "ipython",
    "version": 3
   },
   "file_extension": ".py",
   "mimetype": "text/x-python",
   "name": "python",
   "nbconvert_exporter": "python",
   "pygments_lexer": "ipython3",
   "version": "3.6.6"
  }
 },
 "nbformat": 4,
 "nbformat_minor": 2
}
